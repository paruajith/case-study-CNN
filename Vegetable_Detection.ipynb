{
 "cells": [
  {
   "cell_type": "code",
   "execution_count": 1,
   "id": "69dd85a2-647e-4fd1-a635-89903463de1b",
   "metadata": {},
   "outputs": [],
   "source": [
    "from keras.models import load_model\n",
    "import cv2\n",
    "import numpy as np"
   ]
  },
  {
   "cell_type": "code",
   "execution_count": 2,
   "id": "f9d95d63-937d-49b1-a934-7102ebdb9448",
   "metadata": {},
   "outputs": [],
   "source": [
    "model = load_model('model-018.model')\n",
    "\n",
    "face_clsfr = cv2.CascadeClassifier('haarcascade_frontalface_default.xml')\n",
    "\n",
    "source = cv2.VideoCapture(0)\n",
    "\n",
    "labels_dict = {0: 'Cabbage', 1: 'Capsicum', 2: 'Carrot', 3: 'Cauliflower'}\n",
    "color_dict = {0: (0, 255, 0), 1: (0, 0, 255),2: (255, 0, 0),3: (0, 255, 255)}"
   ]
  },
  {
   "cell_type": "code",
   "execution_count": null,
   "id": "91f72d94-5220-4eda-ac9d-8d9ed80a2404",
   "metadata": {},
   "outputs": [],
   "source": [
    "# Load the pre-trained vegetable detection model\n",
    "model = load_model('model-018.model')\n",
    "\n",
    "# Load the face cascade classifier for reference\n",
    "face_clsfr = cv2.CascadeClassifier('haarcascade_frontalface_default.xml')\n",
    "\n",
    "# Initialize the camera\n",
    "source = cv2.VideoCapture(0)\n",
    "\n",
    "# Define labels and colors for vegetables\n",
    "labels_dict = {\n",
    "   0: 'Cabbage', 1: 'Capsicum', 2: 'Carrot', 3: 'Cauliflower'}\n",
    "\n",
    "color_dict = {\n",
    "    0: (0, 255, 0), 1: (0, 0, 255), 3: (255, 0, 0),\n",
    "    4: (0, 255, 255)}\n",
    "\n",
    "while True:\n",
    "    ret, img = source.read()\n",
    "    gray = cv2.cvtColor(img, cv2.COLOR_BGR2GRAY)\n",
    "\n",
    "    # Detect vegetables using the pre-trained model\n",
    "    faces = face_clsfr.detectMultiScale(gray, 1.3, 5)\n",
    "\n",
    "    for x, y, w, h in faces:\n",
    "        veg_img = gray[y:y+w, x:x+w]\n",
    "        resized = cv2.resize(veg_img, (100, 100))\n",
    "        normalized = resized / 255.0\n",
    "        reshaped = np.reshape(normalized, (1, 100, 100, 1))\n",
    "        result = model.predict(reshaped)\n",
    "        label = np.argmax(result, axis=1)[0]\n",
    "\n",
    "        # Draw bounding boxes and labels for detected vegetables\n",
    "        cv2.rectangle(img, (x, y), (x+w, y+h), color_dict[label], 2)\n",
    "        cv2.rectangle(img, (x, y-40), (x+w, y), color_dict[label], -1)\n",
    "        cv2.putText(img, labels_dict[label], (x, y-10), cv2.FONT_HERSHEY_SIMPLEX, 0.8, (255, 255, 255), 2)\n",
    "\n",
    "    # Display the result\n",
    "    cv2.imshow('Vegetable Detection', img)\n",
    "    key = cv2.waitKey(1)\n",
    "\n",
    "    if key == 27:  # Press 'Esc' key to exit\n",
    "        break\n",
    "\n",
    "# Release the camera and close OpenCV windows\n",
    "source.release()\n",
    "cv2.destroyAllWindows()"
   ]
  }
 ],
 "metadata": {
  "kernelspec": {
   "display_name": "Python 3 (ipykernel)",
   "language": "python",
   "name": "python3"
  },
  "language_info": {
   "codemirror_mode": {
    "name": "ipython",
    "version": 3
   },
   "file_extension": ".py",
   "mimetype": "text/x-python",
   "name": "python",
   "nbconvert_exporter": "python",
   "pygments_lexer": "ipython3",
   "version": "3.8.0"
  }
 },
 "nbformat": 4,
 "nbformat_minor": 5
}
