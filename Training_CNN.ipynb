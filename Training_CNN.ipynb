{
 "cells": [
  {
   "cell_type": "code",
   "execution_count": 1,
   "id": "a3ccf542-7397-4370-b0d5-ee7a93b58188",
   "metadata": {},
   "outputs": [],
   "source": [
    "import numpy as np\n",
    "\n",
    "train_data = np.load('train_data.npy')\n",
    "train_target = np.load('train_target.npy')\n",
    "validation_data = np.load('validation_data.npy')\n",
    "validation_target = np.load('validation_target.npy')\n",
    "test_data = np.load('test_data.npy')\n",
    "test_target = np.load('test_target.npy')\n",
    "\n",
    "#loading the save numpy arrays in the previous code"
   ]
  },
  {
   "cell_type": "code",
   "execution_count": 3,
   "id": "87c57683-65d6-472f-81c0-a48cbf6eb221",
   "metadata": {},
   "outputs": [
    {
     "name": "stdout",
     "output_type": "stream",
     "text": [
      "Epoch 1/20\n",
      "125/125 [==============================] - ETA: 0s - loss: 1.3301 - accuracy: 0.4552INFO:tensorflow:Assets written to: model-001.model\\assets\n"
     ]
    },
    {
     "name": "stderr",
     "output_type": "stream",
     "text": [
      "INFO:tensorflow:Assets written to: model-001.model\\assets\n"
     ]
    },
    {
     "name": "stdout",
     "output_type": "stream",
     "text": [
      "125/125 [==============================] - 41s 322ms/step - loss: 1.3301 - accuracy: 0.4552 - val_loss: 0.9167 - val_accuracy: 0.6750\n",
      "Epoch 2/20\n",
      "125/125 [==============================] - ETA: 0s - loss: 0.9015 - accuracy: 0.7038INFO:tensorflow:Assets written to: model-002.model\\assets\n"
     ]
    },
    {
     "name": "stderr",
     "output_type": "stream",
     "text": [
      "INFO:tensorflow:Assets written to: model-002.model\\assets\n"
     ]
    },
    {
     "name": "stdout",
     "output_type": "stream",
     "text": [
      "125/125 [==============================] - 40s 317ms/step - loss: 0.9015 - accuracy: 0.7038 - val_loss: 0.8547 - val_accuracy: 0.7225\n",
      "Epoch 3/20\n",
      "125/125 [==============================] - ETA: 0s - loss: 0.7420 - accuracy: 0.7815INFO:tensorflow:Assets written to: model-003.model\\assets\n"
     ]
    },
    {
     "name": "stderr",
     "output_type": "stream",
     "text": [
      "INFO:tensorflow:Assets written to: model-003.model\\assets\n"
     ]
    },
    {
     "name": "stdout",
     "output_type": "stream",
     "text": [
      "125/125 [==============================] - 40s 317ms/step - loss: 0.7420 - accuracy: 0.7815 - val_loss: 0.6879 - val_accuracy: 0.7900\n",
      "Epoch 4/20\n",
      "125/125 [==============================] - ETA: 0s - loss: 0.6163 - accuracy: 0.8425INFO:tensorflow:Assets written to: model-004.model\\assets\n"
     ]
    },
    {
     "name": "stderr",
     "output_type": "stream",
     "text": [
      "INFO:tensorflow:Assets written to: model-004.model\\assets\n"
     ]
    },
    {
     "name": "stdout",
     "output_type": "stream",
     "text": [
      "125/125 [==============================] - 40s 320ms/step - loss: 0.6163 - accuracy: 0.8425 - val_loss: 0.5312 - val_accuracy: 0.8838\n",
      "Epoch 5/20\n",
      "125/125 [==============================] - 38s 305ms/step - loss: 0.5463 - accuracy: 0.8820 - val_loss: 0.6819 - val_accuracy: 0.8125\n",
      "Epoch 6/20\n",
      "125/125 [==============================] - ETA: 0s - loss: 0.5410 - accuracy: 0.8752INFO:tensorflow:Assets written to: model-006.model\\assets\n"
     ]
    },
    {
     "name": "stderr",
     "output_type": "stream",
     "text": [
      "INFO:tensorflow:Assets written to: model-006.model\\assets\n"
     ]
    },
    {
     "name": "stdout",
     "output_type": "stream",
     "text": [
      "125/125 [==============================] - 39s 315ms/step - loss: 0.5410 - accuracy: 0.8752 - val_loss: 0.4992 - val_accuracy: 0.8975\n",
      "Epoch 7/20\n",
      "125/125 [==============================] - ETA: 0s - loss: 0.4208 - accuracy: 0.9247INFO:tensorflow:Assets written to: model-007.model\\assets\n"
     ]
    },
    {
     "name": "stderr",
     "output_type": "stream",
     "text": [
      "INFO:tensorflow:Assets written to: model-007.model\\assets\n"
     ]
    },
    {
     "name": "stdout",
     "output_type": "stream",
     "text": [
      "125/125 [==============================] - 38s 307ms/step - loss: 0.4208 - accuracy: 0.9247 - val_loss: 0.4382 - val_accuracy: 0.9150\n",
      "Epoch 8/20\n",
      "125/125 [==============================] - 37s 299ms/step - loss: 0.4387 - accuracy: 0.9212 - val_loss: 0.4529 - val_accuracy: 0.9162\n",
      "Epoch 9/20\n",
      "125/125 [==============================] - 38s 301ms/step - loss: 0.4539 - accuracy: 0.9095 - val_loss: 0.6871 - val_accuracy: 0.8300\n",
      "Epoch 10/20\n",
      "125/125 [==============================] - 39s 309ms/step - loss: 0.4310 - accuracy: 0.9243 - val_loss: 0.6449 - val_accuracy: 0.8400\n",
      "Epoch 11/20\n",
      "125/125 [==============================] - ETA: 0s - loss: 0.3630 - accuracy: 0.9448INFO:tensorflow:Assets written to: model-011.model\\assets\n"
     ]
    },
    {
     "name": "stderr",
     "output_type": "stream",
     "text": [
      "INFO:tensorflow:Assets written to: model-011.model\\assets\n"
     ]
    },
    {
     "name": "stdout",
     "output_type": "stream",
     "text": [
      "125/125 [==============================] - 39s 313ms/step - loss: 0.3630 - accuracy: 0.9448 - val_loss: 0.3880 - val_accuracy: 0.9200\n",
      "Epoch 12/20\n",
      "125/125 [==============================] - ETA: 0s - loss: 0.3436 - accuracy: 0.9448INFO:tensorflow:Assets written to: model-012.model\\assets\n"
     ]
    },
    {
     "name": "stderr",
     "output_type": "stream",
     "text": [
      "INFO:tensorflow:Assets written to: model-012.model\\assets\n"
     ]
    },
    {
     "name": "stdout",
     "output_type": "stream",
     "text": [
      "125/125 [==============================] - 39s 313ms/step - loss: 0.3436 - accuracy: 0.9448 - val_loss: 0.3505 - val_accuracy: 0.9350\n",
      "Epoch 13/20\n",
      "125/125 [==============================] - 39s 313ms/step - loss: 0.3749 - accuracy: 0.9402 - val_loss: 0.5063 - val_accuracy: 0.8700\n",
      "Epoch 14/20\n",
      "125/125 [==============================] - 38s 304ms/step - loss: 0.3759 - accuracy: 0.9390 - val_loss: 0.4916 - val_accuracy: 0.8813\n",
      "Epoch 15/20\n",
      "125/125 [==============================] - 38s 303ms/step - loss: 0.3241 - accuracy: 0.9555 - val_loss: 0.3629 - val_accuracy: 0.9438\n",
      "Epoch 16/20\n",
      "125/125 [==============================] - ETA: 0s - loss: 0.3302 - accuracy: 0.9495INFO:tensorflow:Assets written to: model-016.model\\assets\n"
     ]
    },
    {
     "name": "stderr",
     "output_type": "stream",
     "text": [
      "INFO:tensorflow:Assets written to: model-016.model\\assets\n"
     ]
    },
    {
     "name": "stdout",
     "output_type": "stream",
     "text": [
      "125/125 [==============================] - 39s 314ms/step - loss: 0.3302 - accuracy: 0.9495 - val_loss: 0.3174 - val_accuracy: 0.9525\n",
      "Epoch 17/20\n",
      "125/125 [==============================] - 33s 261ms/step - loss: 0.3185 - accuracy: 0.9565 - val_loss: 0.4177 - val_accuracy: 0.9013\n",
      "Epoch 18/20\n",
      "125/125 [==============================] - ETA: 0s - loss: 0.2932 - accuracy: 0.9610INFO:tensorflow:Assets written to: model-018.model\\assets\n"
     ]
    },
    {
     "name": "stderr",
     "output_type": "stream",
     "text": [
      "INFO:tensorflow:Assets written to: model-018.model\\assets\n"
     ]
    },
    {
     "name": "stdout",
     "output_type": "stream",
     "text": [
      "125/125 [==============================] - 31s 248ms/step - loss: 0.2932 - accuracy: 0.9610 - val_loss: 0.2788 - val_accuracy: 0.9725\n",
      "Epoch 19/20\n",
      "125/125 [==============================] - 30s 242ms/step - loss: 0.2898 - accuracy: 0.9605 - val_loss: 0.3701 - val_accuracy: 0.9312\n",
      "Epoch 20/20\n",
      "125/125 [==============================] - 30s 241ms/step - loss: 0.2665 - accuracy: 0.9688 - val_loss: 0.2802 - val_accuracy: 0.9588\n"
     ]
    }
   ],
   "source": [
    "from keras.models import Sequential\n",
    "from keras.layers import Dense, Activation, Flatten, Dropout\n",
    "from keras.layers import Conv2D, MaxPooling2D\n",
    "from keras.callbacks import ModelCheckpoint, EarlyStopping\n",
    "from keras.regularizers import l2\n",
    "\n",
    "model = Sequential()\n",
    "\n",
    "model.add(Conv2D(64, (3, 3), input_shape = train_data.shape[1:], activation='relu'))\n",
    "model.add(MaxPooling2D(pool_size = (2, 2)))\n",
    "\n",
    "model.add(Conv2D(128, (3, 3), activation = 'relu'))\n",
    "model.add(MaxPooling2D(pool_size = (2, 2)))\n",
    "\n",
    "model.add(Conv2D(256, (3, 3), activation = 'relu'))\n",
    "model.add(MaxPooling2D(pool_size = (2, 2)))\n",
    "\n",
    "model.add(Flatten())\n",
    "model.add(Dropout(0.5))\n",
    "model.add(Dense(128, activation = 'relu', kernel_regularizer = l2(0.01)))\n",
    "model.add(Dense(4, activation = 'softmax'))\n",
    "\n",
    "model.compile(loss = 'categorical_crossentropy', optimizer = 'adam', metrics = ['accuracy'])\n",
    "\n",
    "# Define callbacks\n",
    "checkpoint = ModelCheckpoint('model-{epoch:03d}.model', monitor = 'val_loss', verbose = 0, save_best_only = True, mode = 'auto')\n",
    "early_stopping = EarlyStopping(monitor = 'val_loss', patience = 10, restore_best_weights = True)\n",
    "\n",
    "# Train the model with callbacks\n",
    "history = model.fit(train_data, train_target, epochs = 20, validation_data = (validation_data, validation_target), callbacks = [checkpoint, early_stopping])"
   ]
  },
  {
   "cell_type": "code",
   "execution_count": 4,
   "id": "c08d4d42-6b17-42dc-938b-6cdc7361059f",
   "metadata": {},
   "outputs": [
    {
     "name": "stdout",
     "output_type": "stream",
     "text": [
      "25/25 [==============================] - 1s 49ms/step - loss: 0.2584 - accuracy: 0.9750\n",
      "[0.25843557715415955, 0.9750000238418579]\n"
     ]
    }
   ],
   "source": [
    "print(model.evaluate(test_data,test_target))"
   ]
  },
  {
   "cell_type": "code",
   "execution_count": null,
   "id": "cc53b659-b4c3-49c7-812d-9ea9854c84c5",
   "metadata": {},
   "outputs": [],
   "source": []
  }
 ],
 "metadata": {
  "kernelspec": {
   "display_name": "Python 3 (ipykernel)",
   "language": "python",
   "name": "python3"
  },
  "language_info": {
   "codemirror_mode": {
    "name": "ipython",
    "version": 3
   },
   "file_extension": ".py",
   "mimetype": "text/x-python",
   "name": "python",
   "nbconvert_exporter": "python",
   "pygments_lexer": "ipython3",
   "version": "3.8.0"
  }
 },
 "nbformat": 4,
 "nbformat_minor": 5
}
